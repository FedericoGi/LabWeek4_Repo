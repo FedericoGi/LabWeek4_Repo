{
 "cells": [
  {
   "cell_type": "code",
   "execution_count": 2,
   "id": "headed-malawi",
   "metadata": {},
   "outputs": [
    {
     "name": "stdout",
     "output_type": "stream",
     "text": [
      "········\n"
     ]
    }
   ],
   "source": [
    "import pymysql \n",
    "from sqlalchemy import create_engine \n",
    "import pandas as pd \n",
    "import getpass # to get the password without it being visible CONNECTION TO SQL\n",
    "password= getpass.getpass()"
   ]
  },
  {
   "cell_type": "code",
   "execution_count": 3,
   "id": "boolean-stake",
   "metadata": {},
   "outputs": [],
   "source": [
    "connection_string = \"mysql+pymysql://root:\" + password + '@localhost/bank'\n",
    "engine = create_engine(connection_string)\n",
    "\n",
    "query = \"\"\"\n",
    "SELECT \n",
    "    t.type,\n",
    "    t.operation,\n",
    "    t.amount AS t_amount,\n",
    "    t.balance,\n",
    "    t.k_symbol,\n",
    "    l.amount AS l_amount,\n",
    "    l.duration,\n",
    "    l.payments,\n",
    "    l.status\n",
    "FROM\n",
    "    trans t\n",
    "        LEFT JOIN\n",
    "    loan l ON t.account_id = l.account_id;\n",
    "\"\"\""
   ]
  },
  {
   "cell_type": "code",
   "execution_count": 4,
   "id": "intense-producer",
   "metadata": {},
   "outputs": [],
   "source": [
    "data = pd.read_sql_query(query, engine)"
   ]
  },
  {
   "cell_type": "code",
   "execution_count": 5,
   "id": "national-western",
   "metadata": {},
   "outputs": [
    {
     "data": {
      "text/html": [
       "<div>\n",
       "<style scoped>\n",
       "    .dataframe tbody tr th:only-of-type {\n",
       "        vertical-align: middle;\n",
       "    }\n",
       "\n",
       "    .dataframe tbody tr th {\n",
       "        vertical-align: top;\n",
       "    }\n",
       "\n",
       "    .dataframe thead th {\n",
       "        text-align: right;\n",
       "    }\n",
       "</style>\n",
       "<table border=\"1\" class=\"dataframe\">\n",
       "  <thead>\n",
       "    <tr style=\"text-align: right;\">\n",
       "      <th></th>\n",
       "      <th>type</th>\n",
       "      <th>operation</th>\n",
       "      <th>t_amount</th>\n",
       "      <th>balance</th>\n",
       "      <th>k_symbol</th>\n",
       "      <th>l_amount</th>\n",
       "      <th>duration</th>\n",
       "      <th>payments</th>\n",
       "      <th>status</th>\n",
       "    </tr>\n",
       "  </thead>\n",
       "  <tbody>\n",
       "    <tr>\n",
       "      <th>0</th>\n",
       "      <td>PRIJEM</td>\n",
       "      <td>VKLAD</td>\n",
       "      <td>700.0</td>\n",
       "      <td>700.0</td>\n",
       "      <td></td>\n",
       "      <td>NaN</td>\n",
       "      <td>NaN</td>\n",
       "      <td>NaN</td>\n",
       "      <td>None</td>\n",
       "    </tr>\n",
       "    <tr>\n",
       "      <th>1</th>\n",
       "      <td>PRIJEM</td>\n",
       "      <td>VKLAD</td>\n",
       "      <td>900.0</td>\n",
       "      <td>900.0</td>\n",
       "      <td></td>\n",
       "      <td>NaN</td>\n",
       "      <td>NaN</td>\n",
       "      <td>NaN</td>\n",
       "      <td>None</td>\n",
       "    </tr>\n",
       "    <tr>\n",
       "      <th>2</th>\n",
       "      <td>PRIJEM</td>\n",
       "      <td>VKLAD</td>\n",
       "      <td>1000.0</td>\n",
       "      <td>1000.0</td>\n",
       "      <td></td>\n",
       "      <td>NaN</td>\n",
       "      <td>NaN</td>\n",
       "      <td>NaN</td>\n",
       "      <td>None</td>\n",
       "    </tr>\n",
       "    <tr>\n",
       "      <th>3</th>\n",
       "      <td>PRIJEM</td>\n",
       "      <td>VKLAD</td>\n",
       "      <td>600.0</td>\n",
       "      <td>600.0</td>\n",
       "      <td></td>\n",
       "      <td>NaN</td>\n",
       "      <td>NaN</td>\n",
       "      <td>NaN</td>\n",
       "      <td>None</td>\n",
       "    </tr>\n",
       "    <tr>\n",
       "      <th>4</th>\n",
       "      <td>PRIJEM</td>\n",
       "      <td>VKLAD</td>\n",
       "      <td>400.0</td>\n",
       "      <td>400.0</td>\n",
       "      <td></td>\n",
       "      <td>NaN</td>\n",
       "      <td>NaN</td>\n",
       "      <td>NaN</td>\n",
       "      <td>None</td>\n",
       "    </tr>\n",
       "  </tbody>\n",
       "</table>\n",
       "</div>"
      ],
      "text/plain": [
       "     type operation  t_amount  balance k_symbol  l_amount  duration  payments  \\\n",
       "0  PRIJEM     VKLAD     700.0    700.0                NaN       NaN       NaN   \n",
       "1  PRIJEM     VKLAD     900.0    900.0                NaN       NaN       NaN   \n",
       "2  PRIJEM     VKLAD    1000.0   1000.0                NaN       NaN       NaN   \n",
       "3  PRIJEM     VKLAD     600.0    600.0                NaN       NaN       NaN   \n",
       "4  PRIJEM     VKLAD     400.0    400.0                NaN       NaN       NaN   \n",
       "\n",
       "  status  \n",
       "0   None  \n",
       "1   None  \n",
       "2   None  \n",
       "3   None  \n",
       "4   None  "
      ]
     },
     "execution_count": 5,
     "metadata": {},
     "output_type": "execute_result"
    }
   ],
   "source": [
    "data.head()"
   ]
  },
  {
   "cell_type": "code",
   "execution_count": 6,
   "id": "thousand-harrison",
   "metadata": {},
   "outputs": [
    {
     "data": {
      "text/plain": [
       "type              0\n",
       "operation         0\n",
       "t_amount          0\n",
       "balance           0\n",
       "k_symbol          0\n",
       "l_amount     711938\n",
       "duration     711938\n",
       "payments     711938\n",
       "status       711938\n",
       "dtype: int64"
      ]
     },
     "execution_count": 6,
     "metadata": {},
     "output_type": "execute_result"
    }
   ],
   "source": [
    "data.isna().sum()"
   ]
  },
  {
   "cell_type": "code",
   "execution_count": 7,
   "id": "coated-thanks",
   "metadata": {},
   "outputs": [
    {
     "data": {
      "text/plain": [
       "868019"
      ]
     },
     "execution_count": 7,
     "metadata": {},
     "output_type": "execute_result"
    }
   ],
   "source": [
    "len(data)"
   ]
  },
  {
   "cell_type": "code",
   "execution_count": 81,
   "id": "characteristic-petroleum",
   "metadata": {
    "scrolled": true
   },
   "outputs": [],
   "source": [
    "data = data[~data['duration'].isna()]  #Clean all the Null"
   ]
  },
  {
   "cell_type": "code",
   "execution_count": 9,
   "id": "mexican-lightweight",
   "metadata": {
    "scrolled": true
   },
   "outputs": [
    {
     "data": {
      "text/plain": [
       "type         0\n",
       "operation    0\n",
       "t_amount     0\n",
       "balance      0\n",
       "k_symbol     0\n",
       "l_amount     0\n",
       "duration     0\n",
       "payments     0\n",
       "status       0\n",
       "dtype: int64"
      ]
     },
     "execution_count": 9,
     "metadata": {},
     "output_type": "execute_result"
    }
   ],
   "source": [
    "data.isna().sum()"
   ]
  },
  {
   "cell_type": "code",
   "execution_count": 82,
   "id": "informational-indianapolis",
   "metadata": {},
   "outputs": [
    {
     "name": "stdout",
     "output_type": "stream",
     "text": [
      "<class 'pandas.core.frame.DataFrame'>\n",
      "Int64Index: 10745 entries, 2037 to 867430\n",
      "Data columns (total 9 columns):\n",
      " #   Column     Non-Null Count  Dtype  \n",
      "---  ------     --------------  -----  \n",
      " 0   type       10745 non-null  object \n",
      " 1   operation  10745 non-null  object \n",
      " 2   t_amount   10745 non-null  float64\n",
      " 3   balance    10745 non-null  float64\n",
      " 4   k_symbol   10745 non-null  object \n",
      " 5   l_amount   10745 non-null  float64\n",
      " 6   duration   10745 non-null  object \n",
      " 7   payments   10745 non-null  float64\n",
      " 8   status     10745 non-null  object \n",
      "dtypes: float64(4), object(5)\n",
      "memory usage: 839.5+ KB\n"
     ]
    }
   ],
   "source": [
    "data.info()"
   ]
  },
  {
   "cell_type": "code",
   "execution_count": 10,
   "id": "brazilian-colors",
   "metadata": {},
   "outputs": [],
   "source": [
    "#turning duration into categorical, because it comes in values of whole years (1,2,3,4,5)\n",
    "\n",
    "data['duration'] = data['duration'].astype('object')"
   ]
  },
  {
   "cell_type": "markdown",
   "id": "anonymous-music",
   "metadata": {},
   "source": [
    "# a. Cleaning categoricals"
   ]
  },
  {
   "cell_type": "code",
   "execution_count": 34,
   "id": "specified-masters",
   "metadata": {},
   "outputs": [
    {
     "data": {
      "text/plain": [
       "prevod    10156\n",
       "vyber       589\n",
       "Name: operation, dtype: int64"
      ]
     },
     "execution_count": 34,
     "metadata": {},
     "output_type": "execute_result"
    }
   ],
   "source": [
    "data['operation'].value_counts()"
   ]
  },
  {
   "cell_type": "code",
   "execution_count": 35,
   "id": "numerous-consolidation",
   "metadata": {},
   "outputs": [],
   "source": [
    "#Group by similar name avoiding blank space \n",
    "\n",
    "def clean_operation(x):\n",
    "    x = x.lower()\n",
    "    if 'vyber' in x:\n",
    "        return 'vyber'\n",
    "    elif 'prevod' in x:\n",
    "        return 'prevod'\n",
    "    elif 'vklad' in x:\n",
    "        return 'vklad'\n",
    "    else: \n",
    "        return 'unknown'"
   ]
  },
  {
   "cell_type": "code",
   "execution_count": 36,
   "id": "completed-payday",
   "metadata": {},
   "outputs": [],
   "source": [
    "data['operation'] = data['operation'].apply(clean_operation)  #You apply the above function "
   ]
  },
  {
   "cell_type": "code",
   "execution_count": null,
   "id": "obvious-footage",
   "metadata": {},
   "outputs": [],
   "source": []
  },
  {
   "cell_type": "code",
   "execution_count": 37,
   "id": "eligible-barrel",
   "metadata": {},
   "outputs": [
    {
     "data": {
      "text/plain": [
       "Index(['UVER', 'POJISTNE', 'SANKC. UROK'], dtype='object')"
      ]
     },
     "execution_count": 37,
     "metadata": {},
     "output_type": "execute_result"
    }
   ],
   "source": [
    "data['k_symbol'].value_counts().index"
   ]
  },
  {
   "cell_type": "code",
   "execution_count": 38,
   "id": "higher-cassette",
   "metadata": {},
   "outputs": [],
   "source": [
    "#Clean the symbol\n",
    "\n",
    "def clean_ksymbol(x):\n",
    "    if x in ['', ' ']:\n",
    "        return 'unknown'\n",
    "    else:\n",
    "        return x"
   ]
  },
  {
   "cell_type": "code",
   "execution_count": 39,
   "id": "bottom-cycle",
   "metadata": {},
   "outputs": [],
   "source": [
    "data ['k_symbol'] = data['k_symbol'].apply(clean_ksymbol)"
   ]
  },
  {
   "cell_type": "code",
   "execution_count": 43,
   "id": "least-standard",
   "metadata": {},
   "outputs": [
    {
     "data": {
      "text/plain": [
       "UVER           7744\n",
       "POJISTNE       2412\n",
       "SANKC. UROK     589\n",
       "Name: k_symbol, dtype: int64"
      ]
     },
     "execution_count": 43,
     "metadata": {},
     "output_type": "execute_result"
    }
   ],
   "source": [
    "data['k_symbol'].value_counts()"
   ]
  },
  {
   "cell_type": "code",
   "execution_count": 41,
   "id": "graduate-douglas",
   "metadata": {},
   "outputs": [],
   "source": [
    "#Filter data so that  k_symbol is cleaned of POJISTNE, SANKC. UROK, UVER\n",
    "\n",
    "#data['k_symbol'].isin(['POJISTNE','SANKC. UROK', 'UVER'])\n",
    "\n",
    "data = data[data['k_symbol'].isin(['POJISTNE','SANKC. UROK', 'UVER'])] #final recall dataframe and confirm df"
   ]
  },
  {
   "cell_type": "code",
   "execution_count": 42,
   "id": "sharp-houston",
   "metadata": {},
   "outputs": [
    {
     "data": {
      "text/html": [
       "<div>\n",
       "<style scoped>\n",
       "    .dataframe tbody tr th:only-of-type {\n",
       "        vertical-align: middle;\n",
       "    }\n",
       "\n",
       "    .dataframe tbody tr th {\n",
       "        vertical-align: top;\n",
       "    }\n",
       "\n",
       "    .dataframe thead th {\n",
       "        text-align: right;\n",
       "    }\n",
       "</style>\n",
       "<table border=\"1\" class=\"dataframe\">\n",
       "  <thead>\n",
       "    <tr style=\"text-align: right;\">\n",
       "      <th></th>\n",
       "      <th>type</th>\n",
       "      <th>operation</th>\n",
       "      <th>t_amount</th>\n",
       "      <th>balance</th>\n",
       "      <th>k_symbol</th>\n",
       "      <th>l_amount</th>\n",
       "      <th>duration</th>\n",
       "      <th>payments</th>\n",
       "      <th>status</th>\n",
       "    </tr>\n",
       "  </thead>\n",
       "  <tbody>\n",
       "    <tr>\n",
       "      <th>2037</th>\n",
       "      <td>VYDAJ</td>\n",
       "      <td>prevod</td>\n",
       "      <td>956.0</td>\n",
       "      <td>70740.2</td>\n",
       "      <td>POJISTNE</td>\n",
       "      <td>165960.0</td>\n",
       "      <td>36.0</td>\n",
       "      <td>4610.0</td>\n",
       "      <td>A</td>\n",
       "    </tr>\n",
       "    <tr>\n",
       "      <th>2326</th>\n",
       "      <td>VYDAJ</td>\n",
       "      <td>prevod</td>\n",
       "      <td>1017.0</td>\n",
       "      <td>88173.8</td>\n",
       "      <td>POJISTNE</td>\n",
       "      <td>174744.0</td>\n",
       "      <td>24.0</td>\n",
       "      <td>7281.0</td>\n",
       "      <td>B</td>\n",
       "    </tr>\n",
       "    <tr>\n",
       "      <th>3656</th>\n",
       "      <td>VYDAJ</td>\n",
       "      <td>prevod</td>\n",
       "      <td>1017.0</td>\n",
       "      <td>74725.5</td>\n",
       "      <td>POJISTNE</td>\n",
       "      <td>174744.0</td>\n",
       "      <td>24.0</td>\n",
       "      <td>7281.0</td>\n",
       "      <td>B</td>\n",
       "    </tr>\n",
       "    <tr>\n",
       "      <th>4901</th>\n",
       "      <td>VYDAJ</td>\n",
       "      <td>prevod</td>\n",
       "      <td>956.0</td>\n",
       "      <td>26456.9</td>\n",
       "      <td>POJISTNE</td>\n",
       "      <td>165960.0</td>\n",
       "      <td>36.0</td>\n",
       "      <td>4610.0</td>\n",
       "      <td>A</td>\n",
       "    </tr>\n",
       "    <tr>\n",
       "      <th>5053</th>\n",
       "      <td>VYDAJ</td>\n",
       "      <td>prevod</td>\n",
       "      <td>66.0</td>\n",
       "      <td>47679.8</td>\n",
       "      <td>POJISTNE</td>\n",
       "      <td>127080.0</td>\n",
       "      <td>60.0</td>\n",
       "      <td>2118.0</td>\n",
       "      <td>A</td>\n",
       "    </tr>\n",
       "  </tbody>\n",
       "</table>\n",
       "</div>"
      ],
      "text/plain": [
       "       type operation  t_amount  balance  k_symbol  l_amount duration  \\\n",
       "2037  VYDAJ    prevod     956.0  70740.2  POJISTNE  165960.0     36.0   \n",
       "2326  VYDAJ    prevod    1017.0  88173.8  POJISTNE  174744.0     24.0   \n",
       "3656  VYDAJ    prevod    1017.0  74725.5  POJISTNE  174744.0     24.0   \n",
       "4901  VYDAJ    prevod     956.0  26456.9  POJISTNE  165960.0     36.0   \n",
       "5053  VYDAJ    prevod      66.0  47679.8  POJISTNE  127080.0     60.0   \n",
       "\n",
       "      payments status  \n",
       "2037    4610.0      A  \n",
       "2326    7281.0      B  \n",
       "3656    7281.0      B  \n",
       "4901    4610.0      A  \n",
       "5053    2118.0      A  "
      ]
     },
     "execution_count": 42,
     "metadata": {},
     "output_type": "execute_result"
    }
   ],
   "source": [
    "data.head()"
   ]
  },
  {
   "cell_type": "code",
   "execution_count": 33,
   "id": "modern-meeting",
   "metadata": {},
   "outputs": [
    {
     "data": {
      "text/plain": [
       "UVER           7744\n",
       "POJISTNE       2412\n",
       "SANKC. UROK     589\n",
       "Name: k_symbol, dtype: int64"
      ]
     },
     "execution_count": 33,
     "metadata": {},
     "output_type": "execute_result"
    }
   ],
   "source": [
    "data['k_symbol'].value_counts()"
   ]
  },
  {
   "cell_type": "code",
   "execution_count": 47,
   "id": "certified-facing",
   "metadata": {},
   "outputs": [],
   "source": [
    "def clean_type(x):\n",
    "    if 'PRI' in x:\n",
    "        return 'PRIJEM'\n",
    "    else: \n",
    "        return x"
   ]
  },
  {
   "cell_type": "code",
   "execution_count": 48,
   "id": "black-screen",
   "metadata": {},
   "outputs": [],
   "source": [
    "data['type'] = data['type'].apply(clean_type)"
   ]
  },
  {
   "cell_type": "code",
   "execution_count": 49,
   "id": "likely-radio",
   "metadata": {},
   "outputs": [
    {
     "data": {
      "text/plain": [
       "VYDAJ    10745\n",
       "Name: type, dtype: int64"
      ]
     },
     "execution_count": 49,
     "metadata": {},
     "output_type": "execute_result"
    }
   ],
   "source": [
    "data['type'].value_counts()"
   ]
  },
  {
   "cell_type": "code",
   "execution_count": null,
   "id": "loving-weekend",
   "metadata": {},
   "outputs": [],
   "source": []
  },
  {
   "cell_type": "code",
   "execution_count": null,
   "id": "right-cooperation",
   "metadata": {},
   "outputs": [],
   "source": []
  },
  {
   "cell_type": "markdown",
   "id": "divine-cannon",
   "metadata": {},
   "source": [
    "# b. Check correlations for numerical columns"
   ]
  },
  {
   "cell_type": "code",
   "execution_count": 50,
   "id": "attempted-organization",
   "metadata": {},
   "outputs": [],
   "source": [
    "import matplotlib.pyplot as plt\n",
    "import seaborn as sns "
   ]
  },
  {
   "cell_type": "code",
   "execution_count": 51,
   "id": "developmental-mayor",
   "metadata": {},
   "outputs": [
    {
     "data": {
      "text/html": [
       "<div>\n",
       "<style scoped>\n",
       "    .dataframe tbody tr th:only-of-type {\n",
       "        vertical-align: middle;\n",
       "    }\n",
       "\n",
       "    .dataframe tbody tr th {\n",
       "        vertical-align: top;\n",
       "    }\n",
       "\n",
       "    .dataframe thead th {\n",
       "        text-align: right;\n",
       "    }\n",
       "</style>\n",
       "<table border=\"1\" class=\"dataframe\">\n",
       "  <thead>\n",
       "    <tr style=\"text-align: right;\">\n",
       "      <th></th>\n",
       "      <th>t_amount</th>\n",
       "      <th>balance</th>\n",
       "      <th>l_amount</th>\n",
       "      <th>payments</th>\n",
       "    </tr>\n",
       "  </thead>\n",
       "  <tbody>\n",
       "    <tr>\n",
       "      <th>t_amount</th>\n",
       "      <td>1.000000</td>\n",
       "      <td>0.150726</td>\n",
       "      <td>0.468135</td>\n",
       "      <td>0.592942</td>\n",
       "    </tr>\n",
       "    <tr>\n",
       "      <th>balance</th>\n",
       "      <td>0.150726</td>\n",
       "      <td>1.000000</td>\n",
       "      <td>0.009273</td>\n",
       "      <td>0.031490</td>\n",
       "    </tr>\n",
       "    <tr>\n",
       "      <th>l_amount</th>\n",
       "      <td>0.468135</td>\n",
       "      <td>0.009273</td>\n",
       "      <td>1.000000</td>\n",
       "      <td>0.737717</td>\n",
       "    </tr>\n",
       "    <tr>\n",
       "      <th>payments</th>\n",
       "      <td>0.592942</td>\n",
       "      <td>0.031490</td>\n",
       "      <td>0.737717</td>\n",
       "      <td>1.000000</td>\n",
       "    </tr>\n",
       "  </tbody>\n",
       "</table>\n",
       "</div>"
      ],
      "text/plain": [
       "          t_amount   balance  l_amount  payments\n",
       "t_amount  1.000000  0.150726  0.468135  0.592942\n",
       "balance   0.150726  1.000000  0.009273  0.031490\n",
       "l_amount  0.468135  0.009273  1.000000  0.737717\n",
       "payments  0.592942  0.031490  0.737717  1.000000"
      ]
     },
     "execution_count": 51,
     "metadata": {},
     "output_type": "execute_result"
    }
   ],
   "source": [
    "data.corr()"
   ]
  },
  {
   "cell_type": "code",
   "execution_count": 52,
   "id": "computational-experience",
   "metadata": {},
   "outputs": [],
   "source": [
    "corr_matrix = data.corr()"
   ]
  },
  {
   "cell_type": "code",
   "execution_count": 53,
   "id": "blocked-infection",
   "metadata": {},
   "outputs": [
    {
     "data": {
      "text/plain": [
       "pandas.core.frame.DataFrame"
      ]
     },
     "execution_count": 53,
     "metadata": {},
     "output_type": "execute_result"
    }
   ],
   "source": [
    "type(corr_matrix)"
   ]
  },
  {
   "cell_type": "code",
   "execution_count": 54,
   "id": "comparative-motor",
   "metadata": {},
   "outputs": [
    {
     "data": {
      "image/png": "[encoded data removed]",
      "text/plain": [
       "<Figure size 576x432 with 2 Axes>"
      ]
     },
     "metadata": {
      "needs_background": "light"
     },
     "output_type": "display_data"
    }
   ],
   "source": [
    "fig, ax = plt.subplots(figsize=(8,6))\n",
    "sns.heatmap(corr_matrix,\n",
    "            cmap = 'seismic',\n",
    "           center = 0,\n",
    "           annot = True,\n",
    "           );"
   ]
  },
  {
   "cell_type": "markdown",
   "id": "august-closer",
   "metadata": {},
   "source": [
    "*Note: some high correlation between my features come back after first model validation and maybe drop highly correlated features "
   ]
  },
  {
   "cell_type": "code",
   "execution_count": 55,
   "id": "posted-beach",
   "metadata": {},
   "outputs": [
    {
     "data": {
      "text/plain": [
       "<seaborn.axisgrid.FacetGrid at 0x14b6963d0>"
      ]
     },
     "execution_count": 55,
     "metadata": {},
     "output_type": "execute_result"
    },
    {
     "data": {
      "image/png": "[encoded data removed]",
      "text/plain": [
       "<Figure size 360x360 with 1 Axes>"
      ]
     },
     "metadata": {
      "needs_background": "light"
     },
     "output_type": "display_data"
    }
   ],
   "source": [
    "sns.displot(data['t_amount'])"
   ]
  },
  {
   "cell_type": "code",
   "execution_count": 56,
   "id": "limited-aggregate",
   "metadata": {},
   "outputs": [
    {
     "data": {
      "text/plain": [
       "count    10745.000000\n",
       "mean      3305.852825\n",
       "std       2466.900152\n",
       "min          0.000000\n",
       "25%       1177.000000\n",
       "50%       3132.000000\n",
       "75%       5011.200000\n",
       "max       9910.000000\n",
       "Name: t_amount, dtype: float64"
      ]
     },
     "execution_count": 56,
     "metadata": {},
     "output_type": "execute_result"
    }
   ],
   "source": [
    "data['t_amount'].describe()"
   ]
  },
  {
   "cell_type": "code",
   "execution_count": 60,
   "id": "composed-placement",
   "metadata": {},
   "outputs": [
    {
     "data": {
      "text/plain": [
       "<seaborn.axisgrid.FacetGrid at 0x15af60b50>"
      ]
     },
     "execution_count": 60,
     "metadata": {},
     "output_type": "execute_result"
    },
    {
     "data": {
      "image/png": "[encoded data removed]",
      "text/plain": [
       "<Figure size 360x360 with 1 Axes>"
      ]
     },
     "metadata": {
      "needs_background": "light"
     },
     "output_type": "display_data"
    }
   ],
   "source": [
    "sns.displot(data['l_amount'])"
   ]
  },
  {
   "cell_type": "code",
   "execution_count": 61,
   "id": "weighted-entity",
   "metadata": {
    "scrolled": true
   },
   "outputs": [
    {
     "data": {
      "text/plain": [
       "count     10745.000000\n",
       "mean     157731.369381\n",
       "std      115953.404571\n",
       "min        4980.000000\n",
       "25%       68340.000000\n",
       "50%      128988.000000\n",
       "75%      224604.000000\n",
       "max      590820.000000\n",
       "Name: l_amount, dtype: float64"
      ]
     },
     "execution_count": 61,
     "metadata": {},
     "output_type": "execute_result"
    }
   ],
   "source": [
    "data['l_amount'].describe()"
   ]
  },
  {
   "cell_type": "markdown",
   "id": "liked-oriental",
   "metadata": {},
   "source": [
    "# Pre Processing"
   ]
  },
  {
   "cell_type": "code",
   "execution_count": 67,
   "id": "greek-visitor",
   "metadata": {},
   "outputs": [],
   "source": [
    "import numpy as np\n",
    "from sklearn.preprocessing import Normalizer\n",
    "\n",
    "X = data.select_dtypes(include = np.number)"
   ]
  },
  {
   "cell_type": "code",
   "execution_count": 68,
   "id": "received-ivory",
   "metadata": {},
   "outputs": [
    {
     "data": {
      "text/html": [
       "<div>\n",
       "<style scoped>\n",
       "    .dataframe tbody tr th:only-of-type {\n",
       "        vertical-align: middle;\n",
       "    }\n",
       "\n",
       "    .dataframe tbody tr th {\n",
       "        vertical-align: top;\n",
       "    }\n",
       "\n",
       "    .dataframe thead th {\n",
       "        text-align: right;\n",
       "    }\n",
       "</style>\n",
       "<table border=\"1\" class=\"dataframe\">\n",
       "  <thead>\n",
       "    <tr style=\"text-align: right;\">\n",
       "      <th></th>\n",
       "      <th>t_amount</th>\n",
       "      <th>balance</th>\n",
       "      <th>l_amount</th>\n",
       "      <th>payments</th>\n",
       "    </tr>\n",
       "  </thead>\n",
       "  <tbody>\n",
       "    <tr>\n",
       "      <th>2037</th>\n",
       "      <td>956.0</td>\n",
       "      <td>70740.2</td>\n",
       "      <td>165960.0</td>\n",
       "      <td>4610.0</td>\n",
       "    </tr>\n",
       "    <tr>\n",
       "      <th>2326</th>\n",
       "      <td>1017.0</td>\n",
       "      <td>88173.8</td>\n",
       "      <td>174744.0</td>\n",
       "      <td>7281.0</td>\n",
       "    </tr>\n",
       "    <tr>\n",
       "      <th>3656</th>\n",
       "      <td>1017.0</td>\n",
       "      <td>74725.5</td>\n",
       "      <td>174744.0</td>\n",
       "      <td>7281.0</td>\n",
       "    </tr>\n",
       "    <tr>\n",
       "      <th>4901</th>\n",
       "      <td>956.0</td>\n",
       "      <td>26456.9</td>\n",
       "      <td>165960.0</td>\n",
       "      <td>4610.0</td>\n",
       "    </tr>\n",
       "    <tr>\n",
       "      <th>5053</th>\n",
       "      <td>66.0</td>\n",
       "      <td>47679.8</td>\n",
       "      <td>127080.0</td>\n",
       "      <td>2118.0</td>\n",
       "    </tr>\n",
       "  </tbody>\n",
       "</table>\n",
       "</div>"
      ],
      "text/plain": [
       "      t_amount  balance  l_amount  payments\n",
       "2037     956.0  70740.2  165960.0    4610.0\n",
       "2326    1017.0  88173.8  174744.0    7281.0\n",
       "3656    1017.0  74725.5  174744.0    7281.0\n",
       "4901     956.0  26456.9  165960.0    4610.0\n",
       "5053      66.0  47679.8  127080.0    2118.0"
      ]
     },
     "execution_count": 68,
     "metadata": {},
     "output_type": "execute_result"
    }
   ],
   "source": [
    "X.head()"
   ]
  },
  {
   "cell_type": "code",
   "execution_count": 69,
   "id": "frank-ozone",
   "metadata": {},
   "outputs": [],
   "source": [
    "transformer = Normalizer()\n",
    "transformer.fit(X)\n",
    "x_normalized = transformer.transform(X)"
   ]
  },
  {
   "cell_type": "code",
   "execution_count": 70,
   "id": "unknown-behalf",
   "metadata": {},
   "outputs": [],
   "source": [
    "x = pd.DataFrame(x_normalized, columns=x.columns)"
   ]
  },
  {
   "cell_type": "code",
   "execution_count": null,
   "id": "flexible-fiber",
   "metadata": {},
   "outputs": [],
   "source": []
  },
  {
   "cell_type": "code",
   "execution_count": 71,
   "id": "according-improvement",
   "metadata": {},
   "outputs": [],
   "source": [
    "y = data ['status']"
   ]
  },
  {
   "cell_type": "code",
   "execution_count": 72,
   "id": "ready-morrison",
   "metadata": {},
   "outputs": [
    {
     "data": {
      "text/plain": [
       "(10745, 10745, 10745)"
      ]
     },
     "execution_count": 72,
     "metadata": {},
     "output_type": "execute_result"
    }
   ],
   "source": [
    "len(x), len(y), len(data)"
   ]
  },
  {
   "cell_type": "code",
   "execution_count": 73,
   "id": "innovative-advance",
   "metadata": {
    "scrolled": true
   },
   "outputs": [
    {
     "data": {
      "text/plain": [
       "60.0    2797\n",
       "48.0    2299\n",
       "36.0    2106\n",
       "24.0    2007\n",
       "12.0    1536\n",
       "Name: duration, dtype: int64"
      ]
     },
     "execution_count": 73,
     "metadata": {},
     "output_type": "execute_result"
    }
   ],
   "source": [
    "data['duration'].value_counts()"
   ]
  },
  {
   "cell_type": "code",
   "execution_count": 74,
   "id": "distinguished-program",
   "metadata": {},
   "outputs": [
    {
     "data": {
      "text/html": [
       "<div>\n",
       "<style scoped>\n",
       "    .dataframe tbody tr th:only-of-type {\n",
       "        vertical-align: middle;\n",
       "    }\n",
       "\n",
       "    .dataframe tbody tr th {\n",
       "        vertical-align: top;\n",
       "    }\n",
       "\n",
       "    .dataframe thead th {\n",
       "        text-align: right;\n",
       "    }\n",
       "</style>\n",
       "<table border=\"1\" class=\"dataframe\">\n",
       "  <thead>\n",
       "    <tr style=\"text-align: right;\">\n",
       "      <th></th>\n",
       "      <th>t_amount</th>\n",
       "      <th>balance</th>\n",
       "      <th>l_amount</th>\n",
       "      <th>payments</th>\n",
       "    </tr>\n",
       "  </thead>\n",
       "  <tbody>\n",
       "    <tr>\n",
       "      <th>0</th>\n",
       "      <td>0.005297</td>\n",
       "      <td>0.391980</td>\n",
       "      <td>0.919604</td>\n",
       "      <td>0.025545</td>\n",
       "    </tr>\n",
       "    <tr>\n",
       "      <th>1</th>\n",
       "      <td>0.005192</td>\n",
       "      <td>0.450170</td>\n",
       "      <td>0.892154</td>\n",
       "      <td>0.037173</td>\n",
       "    </tr>\n",
       "    <tr>\n",
       "      <th>2</th>\n",
       "      <td>0.005347</td>\n",
       "      <td>0.392893</td>\n",
       "      <td>0.918772</td>\n",
       "      <td>0.038282</td>\n",
       "    </tr>\n",
       "    <tr>\n",
       "      <th>3</th>\n",
       "      <td>0.005686</td>\n",
       "      <td>0.157368</td>\n",
       "      <td>0.987143</td>\n",
       "      <td>0.027421</td>\n",
       "    </tr>\n",
       "    <tr>\n",
       "      <th>4</th>\n",
       "      <td>0.000486</td>\n",
       "      <td>0.351241</td>\n",
       "      <td>0.936155</td>\n",
       "      <td>0.015603</td>\n",
       "    </tr>\n",
       "    <tr>\n",
       "      <th>...</th>\n",
       "      <td>...</td>\n",
       "      <td>...</td>\n",
       "      <td>...</td>\n",
       "      <td>...</td>\n",
       "    </tr>\n",
       "    <tr>\n",
       "      <th>10740</th>\n",
       "      <td>0.000040</td>\n",
       "      <td>0.051057</td>\n",
       "      <td>0.997830</td>\n",
       "      <td>0.041576</td>\n",
       "    </tr>\n",
       "    <tr>\n",
       "      <th>10741</th>\n",
       "      <td>0.000050</td>\n",
       "      <td>0.004776</td>\n",
       "      <td>0.999122</td>\n",
       "      <td>0.041630</td>\n",
       "    </tr>\n",
       "    <tr>\n",
       "      <th>10742</th>\n",
       "      <td>0.000067</td>\n",
       "      <td>-0.005245</td>\n",
       "      <td>0.999847</td>\n",
       "      <td>0.016664</td>\n",
       "    </tr>\n",
       "    <tr>\n",
       "      <th>10743</th>\n",
       "      <td>0.000041</td>\n",
       "      <td>0.695114</td>\n",
       "      <td>0.718277</td>\n",
       "      <td>0.029928</td>\n",
       "    </tr>\n",
       "    <tr>\n",
       "      <th>10744</th>\n",
       "      <td>0.000002</td>\n",
       "      <td>0.150201</td>\n",
       "      <td>0.988441</td>\n",
       "      <td>0.020593</td>\n",
       "    </tr>\n",
       "  </tbody>\n",
       "</table>\n",
       "<p>10745 rows × 4 columns</p>\n",
       "</div>"
      ],
      "text/plain": [
       "       t_amount   balance  l_amount  payments\n",
       "0      0.005297  0.391980  0.919604  0.025545\n",
       "1      0.005192  0.450170  0.892154  0.037173\n",
       "2      0.005347  0.392893  0.918772  0.038282\n",
       "3      0.005686  0.157368  0.987143  0.027421\n",
       "4      0.000486  0.351241  0.936155  0.015603\n",
       "...         ...       ...       ...       ...\n",
       "10740  0.000040  0.051057  0.997830  0.041576\n",
       "10741  0.000050  0.004776  0.999122  0.041630\n",
       "10742  0.000067 -0.005245  0.999847  0.016664\n",
       "10743  0.000041  0.695114  0.718277  0.029928\n",
       "10744  0.000002  0.150201  0.988441  0.020593\n",
       "\n",
       "[10745 rows x 4 columns]"
      ]
     },
     "execution_count": 74,
     "metadata": {},
     "output_type": "execute_result"
    }
   ],
   "source": [
    "x"
   ]
  },
  {
   "cell_type": "code",
   "execution_count": 76,
   "id": "acute-memorabilia",
   "metadata": {},
   "outputs": [
    {
     "data": {
      "text/html": [
       "<div>\n",
       "<style scoped>\n",
       "    .dataframe tbody tr th:only-of-type {\n",
       "        vertical-align: middle;\n",
       "    }\n",
       "\n",
       "    .dataframe tbody tr th {\n",
       "        vertical-align: top;\n",
       "    }\n",
       "\n",
       "    .dataframe thead th {\n",
       "        text-align: right;\n",
       "    }\n",
       "</style>\n",
       "<table border=\"1\" class=\"dataframe\">\n",
       "  <thead>\n",
       "    <tr style=\"text-align: right;\">\n",
       "      <th></th>\n",
       "      <th>type</th>\n",
       "      <th>operation</th>\n",
       "      <th>t_amount</th>\n",
       "      <th>balance</th>\n",
       "      <th>k_symbol</th>\n",
       "      <th>l_amount</th>\n",
       "      <th>duration</th>\n",
       "      <th>payments</th>\n",
       "      <th>status</th>\n",
       "    </tr>\n",
       "  </thead>\n",
       "  <tbody>\n",
       "    <tr>\n",
       "      <th>2037</th>\n",
       "      <td>VYDAJ</td>\n",
       "      <td>prevod</td>\n",
       "      <td>956.0</td>\n",
       "      <td>70740.2</td>\n",
       "      <td>POJISTNE</td>\n",
       "      <td>165960.0</td>\n",
       "      <td>36.0</td>\n",
       "      <td>4610.0</td>\n",
       "      <td>A</td>\n",
       "    </tr>\n",
       "    <tr>\n",
       "      <th>2326</th>\n",
       "      <td>VYDAJ</td>\n",
       "      <td>prevod</td>\n",
       "      <td>1017.0</td>\n",
       "      <td>88173.8</td>\n",
       "      <td>POJISTNE</td>\n",
       "      <td>174744.0</td>\n",
       "      <td>24.0</td>\n",
       "      <td>7281.0</td>\n",
       "      <td>B</td>\n",
       "    </tr>\n",
       "    <tr>\n",
       "      <th>3656</th>\n",
       "      <td>VYDAJ</td>\n",
       "      <td>prevod</td>\n",
       "      <td>1017.0</td>\n",
       "      <td>74725.5</td>\n",
       "      <td>POJISTNE</td>\n",
       "      <td>174744.0</td>\n",
       "      <td>24.0</td>\n",
       "      <td>7281.0</td>\n",
       "      <td>B</td>\n",
       "    </tr>\n",
       "    <tr>\n",
       "      <th>4901</th>\n",
       "      <td>VYDAJ</td>\n",
       "      <td>prevod</td>\n",
       "      <td>956.0</td>\n",
       "      <td>26456.9</td>\n",
       "      <td>POJISTNE</td>\n",
       "      <td>165960.0</td>\n",
       "      <td>36.0</td>\n",
       "      <td>4610.0</td>\n",
       "      <td>A</td>\n",
       "    </tr>\n",
       "    <tr>\n",
       "      <th>5053</th>\n",
       "      <td>VYDAJ</td>\n",
       "      <td>prevod</td>\n",
       "      <td>66.0</td>\n",
       "      <td>47679.8</td>\n",
       "      <td>POJISTNE</td>\n",
       "      <td>127080.0</td>\n",
       "      <td>60.0</td>\n",
       "      <td>2118.0</td>\n",
       "      <td>A</td>\n",
       "    </tr>\n",
       "    <tr>\n",
       "      <th>...</th>\n",
       "      <td>...</td>\n",
       "      <td>...</td>\n",
       "      <td>...</td>\n",
       "      <td>...</td>\n",
       "      <td>...</td>\n",
       "      <td>...</td>\n",
       "      <td>...</td>\n",
       "      <td>...</td>\n",
       "      <td>...</td>\n",
       "    </tr>\n",
       "    <tr>\n",
       "      <th>865697</th>\n",
       "      <td>VYDAJ</td>\n",
       "      <td>vyber</td>\n",
       "      <td>5.5</td>\n",
       "      <td>7056.3</td>\n",
       "      <td>SANKC. UROK</td>\n",
       "      <td>137904.0</td>\n",
       "      <td>24.0</td>\n",
       "      <td>5746.0</td>\n",
       "      <td>B</td>\n",
       "    </tr>\n",
       "    <tr>\n",
       "      <th>866091</th>\n",
       "      <td>VYDAJ</td>\n",
       "      <td>vyber</td>\n",
       "      <td>9.6</td>\n",
       "      <td>920.5</td>\n",
       "      <td>SANKC. UROK</td>\n",
       "      <td>192552.0</td>\n",
       "      <td>24.0</td>\n",
       "      <td>8023.0</td>\n",
       "      <td>B</td>\n",
       "    </tr>\n",
       "    <tr>\n",
       "      <th>866915</th>\n",
       "      <td>VYDAJ</td>\n",
       "      <td>vyber</td>\n",
       "      <td>36.3</td>\n",
       "      <td>-2838.9</td>\n",
       "      <td>SANKC. UROK</td>\n",
       "      <td>541200.0</td>\n",
       "      <td>60.0</td>\n",
       "      <td>9020.0</td>\n",
       "      <td>D</td>\n",
       "    </tr>\n",
       "    <tr>\n",
       "      <th>867278</th>\n",
       "      <td>VYDAJ</td>\n",
       "      <td>vyber</td>\n",
       "      <td>3.5</td>\n",
       "      <td>59667.7</td>\n",
       "      <td>SANKC. UROK</td>\n",
       "      <td>61656.0</td>\n",
       "      <td>24.0</td>\n",
       "      <td>2569.0</td>\n",
       "      <td>B</td>\n",
       "    </tr>\n",
       "    <tr>\n",
       "      <th>867430</th>\n",
       "      <td>VYDAJ</td>\n",
       "      <td>vyber</td>\n",
       "      <td>0.6</td>\n",
       "      <td>54376.5</td>\n",
       "      <td>SANKC. UROK</td>\n",
       "      <td>357840.0</td>\n",
       "      <td>48.0</td>\n",
       "      <td>7455.0</td>\n",
       "      <td>D</td>\n",
       "    </tr>\n",
       "  </tbody>\n",
       "</table>\n",
       "<p>10745 rows × 9 columns</p>\n",
       "</div>"
      ],
      "text/plain": [
       "         type operation  t_amount  balance     k_symbol  l_amount duration  \\\n",
       "2037    VYDAJ    prevod     956.0  70740.2     POJISTNE  165960.0     36.0   \n",
       "2326    VYDAJ    prevod    1017.0  88173.8     POJISTNE  174744.0     24.0   \n",
       "3656    VYDAJ    prevod    1017.0  74725.5     POJISTNE  174744.0     24.0   \n",
       "4901    VYDAJ    prevod     956.0  26456.9     POJISTNE  165960.0     36.0   \n",
       "5053    VYDAJ    prevod      66.0  47679.8     POJISTNE  127080.0     60.0   \n",
       "...       ...       ...       ...      ...          ...       ...      ...   \n",
       "865697  VYDAJ     vyber       5.5   7056.3  SANKC. UROK  137904.0     24.0   \n",
       "866091  VYDAJ     vyber       9.6    920.5  SANKC. UROK  192552.0     24.0   \n",
       "866915  VYDAJ     vyber      36.3  -2838.9  SANKC. UROK  541200.0     60.0   \n",
       "867278  VYDAJ     vyber       3.5  59667.7  SANKC. UROK   61656.0     24.0   \n",
       "867430  VYDAJ     vyber       0.6  54376.5  SANKC. UROK  357840.0     48.0   \n",
       "\n",
       "        payments status  \n",
       "2037      4610.0      A  \n",
       "2326      7281.0      B  \n",
       "3656      7281.0      B  \n",
       "4901      4610.0      A  \n",
       "5053      2118.0      A  \n",
       "...          ...    ...  \n",
       "865697    5746.0      B  \n",
       "866091    8023.0      B  \n",
       "866915    9020.0      D  \n",
       "867278    2569.0      B  \n",
       "867430    7455.0      D  \n",
       "\n",
       "[10745 rows x 9 columns]"
      ]
     },
     "execution_count": 76,
     "metadata": {},
     "output_type": "execute_result"
    }
   ],
   "source": [
    "data"
   ]
  },
  {
   "cell_type": "code",
   "execution_count": null,
   "id": "independent-excitement",
   "metadata": {},
   "outputs": [],
   "source": []
  },
  {
   "cell_type": "code",
   "execution_count": null,
   "id": "gentle-remove",
   "metadata": {},
   "outputs": [],
   "source": []
  },
  {
   "cell_type": "markdown",
   "id": "oriented-removal",
   "metadata": {},
   "source": [
    "### Dummy "
   ]
  },
  {
   "cell_type": "code",
   "execution_count": 83,
   "id": "accredited-leader",
   "metadata": {},
   "outputs": [
    {
     "name": "stderr",
     "output_type": "stream",
     "text": [
      "<ipython-input-83-a2417216adda>:1: DeprecationWarning: `np.object` is a deprecated alias for the builtin `object`. To silence this warning, use `object` by itself. Doing this will not modify any behavior and is safe. \n",
      "Deprecated in NumPy 1.20; for more details and guidance: https://numpy.org/devdocs/release/1.20.0-notes.html#deprecations\n",
      "  cat = data.select_dtypes(include = np.object)\n"
     ]
    },
    {
     "data": {
      "text/html": [
       "<div>\n",
       "<style scoped>\n",
       "    .dataframe tbody tr th:only-of-type {\n",
       "        vertical-align: middle;\n",
       "    }\n",
       "\n",
       "    .dataframe tbody tr th {\n",
       "        vertical-align: top;\n",
       "    }\n",
       "\n",
       "    .dataframe thead th {\n",
       "        text-align: right;\n",
       "    }\n",
       "</style>\n",
       "<table border=\"1\" class=\"dataframe\">\n",
       "  <thead>\n",
       "    <tr style=\"text-align: right;\">\n",
       "      <th></th>\n",
       "      <th>type</th>\n",
       "      <th>operation</th>\n",
       "      <th>k_symbol</th>\n",
       "      <th>duration</th>\n",
       "      <th>status</th>\n",
       "    </tr>\n",
       "  </thead>\n",
       "  <tbody>\n",
       "    <tr>\n",
       "      <th>2037</th>\n",
       "      <td>VYDAJ</td>\n",
       "      <td>prevod</td>\n",
       "      <td>POJISTNE</td>\n",
       "      <td>36.0</td>\n",
       "      <td>A</td>\n",
       "    </tr>\n",
       "    <tr>\n",
       "      <th>2326</th>\n",
       "      <td>VYDAJ</td>\n",
       "      <td>prevod</td>\n",
       "      <td>POJISTNE</td>\n",
       "      <td>24.0</td>\n",
       "      <td>B</td>\n",
       "    </tr>\n",
       "    <tr>\n",
       "      <th>3656</th>\n",
       "      <td>VYDAJ</td>\n",
       "      <td>prevod</td>\n",
       "      <td>POJISTNE</td>\n",
       "      <td>24.0</td>\n",
       "      <td>B</td>\n",
       "    </tr>\n",
       "    <tr>\n",
       "      <th>4901</th>\n",
       "      <td>VYDAJ</td>\n",
       "      <td>prevod</td>\n",
       "      <td>POJISTNE</td>\n",
       "      <td>36.0</td>\n",
       "      <td>A</td>\n",
       "    </tr>\n",
       "    <tr>\n",
       "      <th>5053</th>\n",
       "      <td>VYDAJ</td>\n",
       "      <td>prevod</td>\n",
       "      <td>POJISTNE</td>\n",
       "      <td>60.0</td>\n",
       "      <td>A</td>\n",
       "    </tr>\n",
       "    <tr>\n",
       "      <th>...</th>\n",
       "      <td>...</td>\n",
       "      <td>...</td>\n",
       "      <td>...</td>\n",
       "      <td>...</td>\n",
       "      <td>...</td>\n",
       "    </tr>\n",
       "    <tr>\n",
       "      <th>865697</th>\n",
       "      <td>VYDAJ</td>\n",
       "      <td>vyber</td>\n",
       "      <td>SANKC. UROK</td>\n",
       "      <td>24.0</td>\n",
       "      <td>B</td>\n",
       "    </tr>\n",
       "    <tr>\n",
       "      <th>866091</th>\n",
       "      <td>VYDAJ</td>\n",
       "      <td>vyber</td>\n",
       "      <td>SANKC. UROK</td>\n",
       "      <td>24.0</td>\n",
       "      <td>B</td>\n",
       "    </tr>\n",
       "    <tr>\n",
       "      <th>866915</th>\n",
       "      <td>VYDAJ</td>\n",
       "      <td>vyber</td>\n",
       "      <td>SANKC. UROK</td>\n",
       "      <td>60.0</td>\n",
       "      <td>D</td>\n",
       "    </tr>\n",
       "    <tr>\n",
       "      <th>867278</th>\n",
       "      <td>VYDAJ</td>\n",
       "      <td>vyber</td>\n",
       "      <td>SANKC. UROK</td>\n",
       "      <td>24.0</td>\n",
       "      <td>B</td>\n",
       "    </tr>\n",
       "    <tr>\n",
       "      <th>867430</th>\n",
       "      <td>VYDAJ</td>\n",
       "      <td>vyber</td>\n",
       "      <td>SANKC. UROK</td>\n",
       "      <td>48.0</td>\n",
       "      <td>D</td>\n",
       "    </tr>\n",
       "  </tbody>\n",
       "</table>\n",
       "<p>10745 rows × 5 columns</p>\n",
       "</div>"
      ],
      "text/plain": [
       "         type operation     k_symbol duration status\n",
       "2037    VYDAJ    prevod     POJISTNE     36.0      A\n",
       "2326    VYDAJ    prevod     POJISTNE     24.0      B\n",
       "3656    VYDAJ    prevod     POJISTNE     24.0      B\n",
       "4901    VYDAJ    prevod     POJISTNE     36.0      A\n",
       "5053    VYDAJ    prevod     POJISTNE     60.0      A\n",
       "...       ...       ...          ...      ...    ...\n",
       "865697  VYDAJ     vyber  SANKC. UROK     24.0      B\n",
       "866091  VYDAJ     vyber  SANKC. UROK     24.0      B\n",
       "866915  VYDAJ     vyber  SANKC. UROK     60.0      D\n",
       "867278  VYDAJ     vyber  SANKC. UROK     24.0      B\n",
       "867430  VYDAJ     vyber  SANKC. UROK     48.0      D\n",
       "\n",
       "[10745 rows x 5 columns]"
      ]
     },
     "execution_count": 83,
     "metadata": {},
     "output_type": "execute_result"
    }
   ],
   "source": [
    "cat = data.select_dtypes(include = np.object)\n",
    "cat"
   ]
  },
  {
   "cell_type": "code",
   "execution_count": 84,
   "id": "minor-color",
   "metadata": {},
   "outputs": [],
   "source": [
    "cat = cat.drop(['status'], axis=1)"
   ]
  },
  {
   "cell_type": "code",
   "execution_count": 85,
   "id": "unlimited-institute",
   "metadata": {},
   "outputs": [
    {
     "data": {
      "text/html": [
       "<div>\n",
       "<style scoped>\n",
       "    .dataframe tbody tr th:only-of-type {\n",
       "        vertical-align: middle;\n",
       "    }\n",
       "\n",
       "    .dataframe tbody tr th {\n",
       "        vertical-align: top;\n",
       "    }\n",
       "\n",
       "    .dataframe thead th {\n",
       "        text-align: right;\n",
       "    }\n",
       "</style>\n",
       "<table border=\"1\" class=\"dataframe\">\n",
       "  <thead>\n",
       "    <tr style=\"text-align: right;\">\n",
       "      <th></th>\n",
       "      <th>type</th>\n",
       "      <th>operation</th>\n",
       "      <th>k_symbol</th>\n",
       "      <th>duration</th>\n",
       "    </tr>\n",
       "  </thead>\n",
       "  <tbody>\n",
       "    <tr>\n",
       "      <th>2037</th>\n",
       "      <td>VYDAJ</td>\n",
       "      <td>prevod</td>\n",
       "      <td>POJISTNE</td>\n",
       "      <td>36.0</td>\n",
       "    </tr>\n",
       "    <tr>\n",
       "      <th>2326</th>\n",
       "      <td>VYDAJ</td>\n",
       "      <td>prevod</td>\n",
       "      <td>POJISTNE</td>\n",
       "      <td>24.0</td>\n",
       "    </tr>\n",
       "    <tr>\n",
       "      <th>3656</th>\n",
       "      <td>VYDAJ</td>\n",
       "      <td>prevod</td>\n",
       "      <td>POJISTNE</td>\n",
       "      <td>24.0</td>\n",
       "    </tr>\n",
       "    <tr>\n",
       "      <th>4901</th>\n",
       "      <td>VYDAJ</td>\n",
       "      <td>prevod</td>\n",
       "      <td>POJISTNE</td>\n",
       "      <td>36.0</td>\n",
       "    </tr>\n",
       "    <tr>\n",
       "      <th>5053</th>\n",
       "      <td>VYDAJ</td>\n",
       "      <td>prevod</td>\n",
       "      <td>POJISTNE</td>\n",
       "      <td>60.0</td>\n",
       "    </tr>\n",
       "  </tbody>\n",
       "</table>\n",
       "</div>"
      ],
      "text/plain": [
       "       type operation  k_symbol duration\n",
       "2037  VYDAJ    prevod  POJISTNE     36.0\n",
       "2326  VYDAJ    prevod  POJISTNE     24.0\n",
       "3656  VYDAJ    prevod  POJISTNE     24.0\n",
       "4901  VYDAJ    prevod  POJISTNE     36.0\n",
       "5053  VYDAJ    prevod  POJISTNE     60.0"
      ]
     },
     "execution_count": 85,
     "metadata": {},
     "output_type": "execute_result"
    }
   ],
   "source": [
    "cat.head()"
   ]
  },
  {
   "cell_type": "code",
   "execution_count": 86,
   "id": "recent-newark",
   "metadata": {
    "scrolled": true
   },
   "outputs": [],
   "source": [
    "categorical=pd.get_dummies(cat, \n",
    "               drop_first=True,\n",
    "               columns=['type', 'operation', 'k_symbol', 'duration'])"
   ]
  },
  {
   "cell_type": "code",
   "execution_count": 87,
   "id": "thirty-arthur",
   "metadata": {
    "scrolled": true
   },
   "outputs": [
    {
     "data": {
      "text/html": [
       "<div>\n",
       "<style scoped>\n",
       "    .dataframe tbody tr th:only-of-type {\n",
       "        vertical-align: middle;\n",
       "    }\n",
       "\n",
       "    .dataframe tbody tr th {\n",
       "        vertical-align: top;\n",
       "    }\n",
       "\n",
       "    .dataframe thead th {\n",
       "        text-align: right;\n",
       "    }\n",
       "</style>\n",
       "<table border=\"1\" class=\"dataframe\">\n",
       "  <thead>\n",
       "    <tr style=\"text-align: right;\">\n",
       "      <th></th>\n",
       "      <th>operation_vyber</th>\n",
       "      <th>k_symbol_SANKC. UROK</th>\n",
       "      <th>k_symbol_UVER</th>\n",
       "      <th>duration_24.0</th>\n",
       "      <th>duration_36.0</th>\n",
       "      <th>duration_48.0</th>\n",
       "      <th>duration_60.0</th>\n",
       "    </tr>\n",
       "  </thead>\n",
       "  <tbody>\n",
       "    <tr>\n",
       "      <th>2037</th>\n",
       "      <td>0</td>\n",
       "      <td>0</td>\n",
       "      <td>0</td>\n",
       "      <td>0</td>\n",
       "      <td>1</td>\n",
       "      <td>0</td>\n",
       "      <td>0</td>\n",
       "    </tr>\n",
       "    <tr>\n",
       "      <th>2326</th>\n",
       "      <td>0</td>\n",
       "      <td>0</td>\n",
       "      <td>0</td>\n",
       "      <td>1</td>\n",
       "      <td>0</td>\n",
       "      <td>0</td>\n",
       "      <td>0</td>\n",
       "    </tr>\n",
       "    <tr>\n",
       "      <th>3656</th>\n",
       "      <td>0</td>\n",
       "      <td>0</td>\n",
       "      <td>0</td>\n",
       "      <td>1</td>\n",
       "      <td>0</td>\n",
       "      <td>0</td>\n",
       "      <td>0</td>\n",
       "    </tr>\n",
       "    <tr>\n",
       "      <th>4901</th>\n",
       "      <td>0</td>\n",
       "      <td>0</td>\n",
       "      <td>0</td>\n",
       "      <td>0</td>\n",
       "      <td>1</td>\n",
       "      <td>0</td>\n",
       "      <td>0</td>\n",
       "    </tr>\n",
       "    <tr>\n",
       "      <th>5053</th>\n",
       "      <td>0</td>\n",
       "      <td>0</td>\n",
       "      <td>0</td>\n",
       "      <td>0</td>\n",
       "      <td>0</td>\n",
       "      <td>0</td>\n",
       "      <td>1</td>\n",
       "    </tr>\n",
       "  </tbody>\n",
       "</table>\n",
       "</div>"
      ],
      "text/plain": [
       "      operation_vyber  k_symbol_SANKC. UROK  k_symbol_UVER  duration_24.0  \\\n",
       "2037                0                     0              0              0   \n",
       "2326                0                     0              0              1   \n",
       "3656                0                     0              0              1   \n",
       "4901                0                     0              0              0   \n",
       "5053                0                     0              0              0   \n",
       "\n",
       "      duration_36.0  duration_48.0  duration_60.0  \n",
       "2037              1              0              0  \n",
       "2326              0              0              0  \n",
       "3656              0              0              0  \n",
       "4901              1              0              0  \n",
       "5053              0              0              1  "
      ]
     },
     "execution_count": 87,
     "metadata": {},
     "output_type": "execute_result"
    }
   ],
   "source": [
    "categorical.head()"
   ]
  },
  {
   "cell_type": "code",
   "execution_count": null,
   "id": "informative-candidate",
   "metadata": {},
   "outputs": [],
   "source": []
  },
  {
   "cell_type": "code",
   "execution_count": null,
   "id": "polar-carolina",
   "metadata": {},
   "outputs": [],
   "source": []
  },
  {
   "cell_type": "code",
   "execution_count": null,
   "id": "broadband-evolution",
   "metadata": {},
   "outputs": [],
   "source": []
  },
  {
   "cell_type": "markdown",
   "id": "compound-marketing",
   "metadata": {},
   "source": [
    "# Modelling"
   ]
  },
  {
   "cell_type": "code",
   "execution_count": 88,
   "id": "personal-incident",
   "metadata": {},
   "outputs": [
    {
     "data": {
      "text/html": [
       "<div>\n",
       "<style scoped>\n",
       "    .dataframe tbody tr th:only-of-type {\n",
       "        vertical-align: middle;\n",
       "    }\n",
       "\n",
       "    .dataframe tbody tr th {\n",
       "        vertical-align: top;\n",
       "    }\n",
       "\n",
       "    .dataframe thead th {\n",
       "        text-align: right;\n",
       "    }\n",
       "</style>\n",
       "<table border=\"1\" class=\"dataframe\">\n",
       "  <thead>\n",
       "    <tr style=\"text-align: right;\">\n",
       "      <th></th>\n",
       "      <th>t_amount</th>\n",
       "      <th>balance</th>\n",
       "      <th>l_amount</th>\n",
       "      <th>payments</th>\n",
       "    </tr>\n",
       "  </thead>\n",
       "  <tbody>\n",
       "    <tr>\n",
       "      <th>0</th>\n",
       "      <td>0.005297</td>\n",
       "      <td>0.391980</td>\n",
       "      <td>0.919604</td>\n",
       "      <td>0.025545</td>\n",
       "    </tr>\n",
       "    <tr>\n",
       "      <th>1</th>\n",
       "      <td>0.005192</td>\n",
       "      <td>0.450170</td>\n",
       "      <td>0.892154</td>\n",
       "      <td>0.037173</td>\n",
       "    </tr>\n",
       "    <tr>\n",
       "      <th>2</th>\n",
       "      <td>0.005347</td>\n",
       "      <td>0.392893</td>\n",
       "      <td>0.918772</td>\n",
       "      <td>0.038282</td>\n",
       "    </tr>\n",
       "    <tr>\n",
       "      <th>3</th>\n",
       "      <td>0.005686</td>\n",
       "      <td>0.157368</td>\n",
       "      <td>0.987143</td>\n",
       "      <td>0.027421</td>\n",
       "    </tr>\n",
       "    <tr>\n",
       "      <th>4</th>\n",
       "      <td>0.000486</td>\n",
       "      <td>0.351241</td>\n",
       "      <td>0.936155</td>\n",
       "      <td>0.015603</td>\n",
       "    </tr>\n",
       "  </tbody>\n",
       "</table>\n",
       "</div>"
      ],
      "text/plain": [
       "   t_amount   balance  l_amount  payments\n",
       "0  0.005297  0.391980  0.919604  0.025545\n",
       "1  0.005192  0.450170  0.892154  0.037173\n",
       "2  0.005347  0.392893  0.918772  0.038282\n",
       "3  0.005686  0.157368  0.987143  0.027421\n",
       "4  0.000486  0.351241  0.936155  0.015603"
      ]
     },
     "execution_count": 88,
     "metadata": {},
     "output_type": "execute_result"
    }
   ],
   "source": [
    "x.head()"
   ]
  },
  {
   "cell_type": "code",
   "execution_count": 89,
   "id": "encouraging-bachelor",
   "metadata": {},
   "outputs": [
    {
     "data": {
      "text/html": [
       "<div>\n",
       "<style scoped>\n",
       "    .dataframe tbody tr th:only-of-type {\n",
       "        vertical-align: middle;\n",
       "    }\n",
       "\n",
       "    .dataframe tbody tr th {\n",
       "        vertical-align: top;\n",
       "    }\n",
       "\n",
       "    .dataframe thead th {\n",
       "        text-align: right;\n",
       "    }\n",
       "</style>\n",
       "<table border=\"1\" class=\"dataframe\">\n",
       "  <thead>\n",
       "    <tr style=\"text-align: right;\">\n",
       "      <th></th>\n",
       "      <th>operation_vyber</th>\n",
       "      <th>k_symbol_SANKC. UROK</th>\n",
       "      <th>k_symbol_UVER</th>\n",
       "      <th>duration_24.0</th>\n",
       "      <th>duration_36.0</th>\n",
       "      <th>duration_48.0</th>\n",
       "      <th>duration_60.0</th>\n",
       "    </tr>\n",
       "  </thead>\n",
       "  <tbody>\n",
       "    <tr>\n",
       "      <th>2037</th>\n",
       "      <td>0</td>\n",
       "      <td>0</td>\n",
       "      <td>0</td>\n",
       "      <td>0</td>\n",
       "      <td>1</td>\n",
       "      <td>0</td>\n",
       "      <td>0</td>\n",
       "    </tr>\n",
       "    <tr>\n",
       "      <th>2326</th>\n",
       "      <td>0</td>\n",
       "      <td>0</td>\n",
       "      <td>0</td>\n",
       "      <td>1</td>\n",
       "      <td>0</td>\n",
       "      <td>0</td>\n",
       "      <td>0</td>\n",
       "    </tr>\n",
       "    <tr>\n",
       "      <th>3656</th>\n",
       "      <td>0</td>\n",
       "      <td>0</td>\n",
       "      <td>0</td>\n",
       "      <td>1</td>\n",
       "      <td>0</td>\n",
       "      <td>0</td>\n",
       "      <td>0</td>\n",
       "    </tr>\n",
       "    <tr>\n",
       "      <th>4901</th>\n",
       "      <td>0</td>\n",
       "      <td>0</td>\n",
       "      <td>0</td>\n",
       "      <td>0</td>\n",
       "      <td>1</td>\n",
       "      <td>0</td>\n",
       "      <td>0</td>\n",
       "    </tr>\n",
       "    <tr>\n",
       "      <th>5053</th>\n",
       "      <td>0</td>\n",
       "      <td>0</td>\n",
       "      <td>0</td>\n",
       "      <td>0</td>\n",
       "      <td>0</td>\n",
       "      <td>0</td>\n",
       "      <td>1</td>\n",
       "    </tr>\n",
       "  </tbody>\n",
       "</table>\n",
       "</div>"
      ],
      "text/plain": [
       "      operation_vyber  k_symbol_SANKC. UROK  k_symbol_UVER  duration_24.0  \\\n",
       "2037                0                     0              0              0   \n",
       "2326                0                     0              0              1   \n",
       "3656                0                     0              0              1   \n",
       "4901                0                     0              0              0   \n",
       "5053                0                     0              0              0   \n",
       "\n",
       "      duration_36.0  duration_48.0  duration_60.0  \n",
       "2037              1              0              0  \n",
       "2326              0              0              0  \n",
       "3656              0              0              0  \n",
       "4901              1              0              0  \n",
       "5053              0              0              1  "
      ]
     },
     "execution_count": 89,
     "metadata": {},
     "output_type": "execute_result"
    }
   ],
   "source": [
    "categorical.head()"
   ]
  },
  {
   "cell_type": "code",
   "execution_count": null,
   "id": "crucial-daisy",
   "metadata": {},
   "outputs": [],
   "source": [
    "y = data['status']"
   ]
  },
  {
   "cell_type": "code",
   "execution_count": 91,
   "id": "alone-display",
   "metadata": {},
   "outputs": [
    {
     "data": {
      "text/plain": [
       "(10745, 10745, 10745)"
      ]
     },
     "execution_count": 91,
     "metadata": {},
     "output_type": "execute_result"
    }
   ],
   "source": [
    "len(x), len(y), len(data)"
   ]
  },
  {
   "cell_type": "code",
   "execution_count": 92,
   "id": "comprehensive-cricket",
   "metadata": {},
   "outputs": [],
   "source": [
    "x = np.concatenate"
   ]
  },
  {
   "cell_type": "code",
   "execution_count": null,
   "id": "chicken-friday",
   "metadata": {},
   "outputs": [],
   "source": []
  },
  {
   "cell_type": "code",
   "execution_count": null,
   "id": "orange-latter",
   "metadata": {},
   "outputs": [],
   "source": []
  },
  {
   "cell_type": "code",
   "execution_count": null,
   "id": "breeding-former",
   "metadata": {},
   "outputs": [],
   "source": []
  }
 ],
 "metadata": {
  "kernelspec": {
   "display_name": "Python 3",
   "language": "python",
   "name": "python3"
  },
  "language_info": {
   "codemirror_mode": {
    "name": "ipython",
    "version": 3
   },
   "file_extension": ".py",
   "mimetype": "text/x-python",
   "name": "python",
   "nbconvert_exporter": "python",
   "pygments_lexer": "ipython3",
   "version": "3.9.2"
  }
 },
 "nbformat": 4,
 "nbformat_minor": 5
}
